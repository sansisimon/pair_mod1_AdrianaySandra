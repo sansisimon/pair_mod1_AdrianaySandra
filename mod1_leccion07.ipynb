{
 "cells": [
  {
   "cell_type": "markdown",
   "metadata": {},
   "source": [
    "# Ejercicios Pair: `Clases`\n",
    "\n",
    "## Ejercicio 1:\n",
    "\n",
    "En este ejercicio de pair programming, vamos a crear una clase para gestionar la información de los empleados de nuestra empresa. Siguiendo las indicaciones del jefe, necesitamos organizar los datos de cada empleado de manera más estructurada.\n",
    "\n",
    "- La clase `Empleados` permite gestionar información relacionada con los empleados de una empresa, con las siguientes características:\n",
    "\n",
    "    - Debes crear una clase llamada \"Empleados\" que tenga los siguientes atributos: `nombre`, `apellidos`, `edad`, `posicion`, `año` , `vacaciones`(cantidad de días de vacaciones que le quedan al empleado) y `herramientas`.\n",
    "\n",
    "    - El constructor `__init__` debe recibir estos atributos como parámetros y asignarlos a los respectivos atributos de la clase.\n",
    "\n",
    "    - Los atributos representan la información personal y profesional de un empleado, como su nombre completo, edad, posición en la empresa, año de ingreso, días de vacaciones disponibles y una lista de herramientas que el empleado sabe utilizar.\n",
    "\n",
    "- Los métodos que debe recibir esta clase son:\n",
    "\n",
    "    1. Método `descripcion`: Proporciona una descripción del empleado, incluyendo su nombre, posición en la empresa, y la cantidad de días de vacaciones que le quedan para el año actual. Los pasos para resolver el ejercicio del método `descripcion` son:\n",
    "\n",
    "        - Utilizar F-Strings: Utiliza f-strings para construir la descripción del empleado de manera legible y eficiente.\n",
    "\n",
    "        - Especificar los Atributos a Incluir: Determina cuáles de los atributos del empleado se deben incluir en la descripción. Los atributos necesarios son `nombre`, `posicion`, `año`, y `vacaciones`.\n",
    "\n",
    "        - Concatenar los Atributos: Usar f-strings para concatenar los atributos seleccionados y crear una descripción coherente.\n",
    "    \n",
    "    2. Método `cambiando_posicion`: Verifica las herramientas que el empleado tiene en su lista y devuelve un mensaje específico basado en las herramientas. Puede elogiar al empleado si tiene \"Python\" en su lista o sugerirle que deje de usar \"Excel\" y aprenda Python. Los pasos para resolver este ejercicio son:\n",
    "\n",
    "        - Iterar a través de las Herramientas: La función debe recorrer la lista de herramientas (`self.herramientas`) del empleado.\n",
    "\n",
    "        - Evaluar Cada Herramienta: Para cada herramienta en la lista, verifica si es igual a \"Python\" o \"Excel\" (en minúsculas).\n",
    "    \n",
    "    3. Método `calcular_antiguedad`: Calcula la antigüedad del empleado en años y meses desde el año de ingreso hasta la fecha actual.\n",
    "        - Calcular la Antigüedad en Años y Meses: Utiliza el módulo `datetime` de Python para obtener el año actual y el mes actual.\n",
    "\n",
    "        - Generar el Mensaje de Antigüedad: Usa los valores calculados para años y meses de antigüedad para generar un mensaje descriptivo. Por ejemplo, \"Juan lleva 5 años y 3 meses en la empresa\".\n",
    "\n",
    "\n",
    "    4. Método `solicitar_aumento_vacaciones`: Permite al empleado solicitar un aumento en la cantidad de días de vacaciones. Si la solicitud es válida (es decir, se solicitan días positivos), actualiza los días de vacaciones del empleado y devuelve un mensaje de confirmación. Recibirá un parámetro dias_solicitados, que corresponderá con el número de días de vacaciones que quiere solicitar.\n",
    "\n",
    "        - Validar los Días Solicitados: Utiliza una estructura de control para verificar si la cantidad de días solicitados (`dias_solicitados`) es mayor que cero. Esto garantiza que solo se procesen solicitudes de aumento válidas.\n",
    "\n",
    "        - Actualizar los Días de Vacaciones: Si la solicitud es válida, aumenta la cantidad de días de vacaciones del empleado (`self.vacaciones`) sumando la cantidad de días solicitados.\n",
    "\n",
    "        - Generar un Mensaje de Confirmación: Crea un mensaje informativo que confirme la aprobación de la solicitud y muestre la cantidad actualizada de días de vacaciones del empleado.\n",
    "\n",
    "        - Manejar Solicitudes No Válidas: Si la solicitud no es válida (es decir, `dias_solicitados` es menor o igual a cero), generar un mensaje de error que indique que la solicitud debe ser un número positivo.\n",
    "    \n",
    "    5. Método `registrar_herramienta`: Permite al empleado registrar una nueva herramienta en su lista de habilidades. La herramienta se registra si no está registrada previamente en la lista de herramientas del empleado. Recibirá un parámetro que será la nueva herramienta.\n",
    "\n",
    "        - **Validar la Nueva Herramienta**: Utiliza una estructura de control para verificar si la nueva herramienta no está en la lista de herramientas existentes.\n",
    "\n",
    "        - **Agregar la Nueva Herramienta**: Si la nueva herramienta no está en la lista existente, agregarla a la lista.\n",
    "\n",
    "        - **Generar un Mensaje de Confirmación**: Crea un mensaje informativo que confirme el registro exitoso de la nueva herramienta y muestre el nombre de la herramienta registrada.\n",
    "\n",
    "        - **Manejar Herramientas Duplicadas**: Si la nueva herramienta ya existe en la lista, genera un mensaje que indique que la herramienta ya ha sido registrada previamente.\n",
    "    \n",
    "    6. Método `cambiar_posicion`: Permite al empleado cambiar su posición y salario en la empresa. Actualiza la posición y el salario y devuelve un mensaje de felicitación. Recibirá dos parámetros, la nueva posición y el nuevo salario.\n",
    "\n",
    "        - Actualizar la Posición y el Salario: Utiliza los parámetros `nueva_posicion` y `nuevo_salario` para actualizar la posición y el salario del empleado.\n",
    "\n",
    "        - Generar un Mensaje de Confirmación: Crea un mensaje informativo que confirme el cambio de posición y salario del empleado y muestre el nombre del empleado, la nueva posición y el nuevo salario.\n",
    "    \n",
    "    7. Método `tomar_vacaciones`: Permite al empleado tomar días de vacaciones, solicitando la cantidad deseada y actualizando los días de vacaciones restantes. Verifica que se solicite al menos un día de vacaciones y que el empleado tenga suficientes días disponibles. No recibe ningún parámetro adicional.\n",
    "\n",
    "        - Solicitar la Cantidad de Días de Vacaciones: Usar la función `input` para solicitar al usuario la cantidad de días de vacaciones que desea tomar.\n",
    "\n",
    "        - Validar la Cantidad de Días: Comprueba que la cantidad de días solicitados sea mayor que cero. Si el usuario ingresa un valor no válido (cero o negativo), muestra un mensaje de error y solicita nuevamente la cantidad de días hasta que sea válida.\n",
    "\n",
    "        - Verificar Disponibilidad de Días de Vacaciones: Comprueba si la cantidad de días solicitados es menor o igual a la cantidad de días de vacaciones disponibles para el empleado.\n",
    "\n",
    "        - Actualizar Días de Vacaciones: Si hay suficientes días de vacaciones disponibles, modifica el código para que se modifiquen los días de vacaciones que le quedan. Si no hay suficientes días disponibles, mostrar un mensaje de error.\n",
    "\n",
    "        - Generar un Mensaje de Confirmación o Error: Dependiendo de si la solicitud se procesó con éxito o no, genera un mensaje que informe al empleado sobre el resultado de su solicitud.\n",
    "    \n",
    "    8. Método `solicitar_aumento_salario`: Permite al empleado solicitar un aumento de salario en porcentaje y calcula el nuevo salario. Verifica que el aumento sea un valor positivo o igual a cero. Este método no recibe ningún parámetro.\n",
    "\n",
    "        - Solicitar el Porcentaje de Aumento de Salario: Utiliza la función `input` para solicitar al usuario el porcentaje de aumento de salario que desea. Asegurate de que el valor ingresado sea un número decimal.\n",
    "\n",
    "        - Validar el Porcentaje de Aumento: Utiliza un bucle `while` para garantizar que el porcentaje de aumento sea mayor o igual a cero. Si el usuario ingresa un valor no válido (negativo), muestra un mensaje de error y solicita nuevamente el porcentaje hasta que sea válido.\n",
    "\n",
    "        - Calcular el Nuevo Salario: Calcula el nuevo salario.\n",
    "\n",
    "        - Generar un Mensaje de Confirmación: Crea un mensaje que informe al empleado sobre el resultado de su solicitud. Incluye el nuevo salario calculado en el mensaje.\n",
    "\n",
    "        - Manejar Errores de Entrada: Utiliza un bloque `try...except` para manejar posibles errores de entrada, como cuando el usuario ingresa un valor que no se puede convertir a un número decimal.\n",
    "    \n",
    "    9. Método `realizar_evaluacion`: Permite al empleado recibir una calificación de desempeño, con opciones como \"Excelente\", \"Bueno\", \"Regular\" o \"Malo\". Verifica que la calificación ingresada sea válida. Este método no recibe ningún parámetro.\n",
    "\n",
    "        - Solicitar la Calificación del Desempeño: Utiliza la función `input` para solicitar al usuario que califique su propio desempeño. Asegurate de que el valor ingresado sea una de las opciones válidas: \"excelente\", \"bueno\", \"regular\" o \"malo\".\n",
    "\n",
    "        - Validar la Calificación: Utiliza un bucle `while` para garantizar que la calificación ingresada sea una de las opciones válidas. Si el usuario ingresa una calificación no válida, muestra un mensaje de error y solicita nuevamente la calificación hasta que sea válida.\n",
    "\n",
    "        - Generar un Mensaje de Retroalimentación: Crear un mensaje que proporcione retroalimentación al empleado basada en la calificación ingresada.\n",
    "\n",
    "        - Retornar el Mensaje Generado: La función debe incluir una instrucción `return` que devuelva el mensaje generado."
   ]
  },
  {
   "cell_type": "code",
   "execution_count": null,
   "metadata": {},
   "outputs": [],
   "source": [
    "# Creamos clase empleados\n",
    "class Empleados:\n",
    "\n",
    "    def __init__(self, nombre, apellidos, edad, posicion, año, vacaciones, herramientas):\n",
    "        self.nombre = nombre\n",
    "        self.apellidos = apellidos\n",
    "        self.edad = edad\n",
    "        self.posicion = posicion\n",
    "        self.año = año\n",
    "        self.vacaciones = vacaciones\n",
    "        self.herramientas = herramientas\n",
    "        herramientas = []\n",
    "\n",
    "    def descripcion(self): # 1.1 Método descripción\n",
    "        print(f'Descipción empleado: {self.nombre}, {self.posicion}, {self.año}, {self.vacaciones}')\n",
    "    \n",
    "    def camiando_posicion(self): # 1.2 Método cambiando_posicion\n",
    "        if 'python' in self.herramientas:\n",
    "            print('Eres una máquina!!')\n",
    "            \n",
    "        elif 'python' not in self.herramientas:\n",
    "            for h in self.herramientas:\n",
    "                if h == 'excel':\n",
    "                    print('Aprende Python, vago!')\n",
    "    \n",
    "    def calcular_antiguedad(self): #1.3 calcular antiguedad\n",
    "        \n",
    "        \n",
    "\n"
   ]
  },
  {
   "cell_type": "code",
   "execution_count": 11,
   "metadata": {},
   "outputs": [
    {
     "name": "stdout",
     "output_type": "stream",
     "text": [
      "2025 2\n"
     ]
    }
   ],
   "source": [
    "from datetime import datetime\n",
    "año = datetime.now().year \n",
    "mes = datetime.now().month\n",
    "print(año, mes)"
   ]
  },
  {
   "cell_type": "code",
   "execution_count": 12,
   "metadata": {},
   "outputs": [
    {
     "name": "stdout",
     "output_type": "stream",
     "text": [
      "2025-02\n"
     ]
    }
   ],
   "source": [
    "fecha_actual = datetime.now().strftime(\"%Y-%m\") \n",
    "print(fecha_actual)"
   ]
  },
  {
   "cell_type": "code",
   "execution_count": null,
   "metadata": {},
   "outputs": [],
   "source": [
    "from datetime import datetime\n",
    "\n",
    "# Define tus fechas en formato string\n",
    "fecha1 = \"2025-01-01\"\n",
    "fecha2 = \"2025-02-12\"\n",
    "\n",
    "# Convierte las fechas de string a objetos datetime\n",
    "fecha1_obj = datetime.strptime(fecha1, \"%Y-%m-%d\")\n",
    "fecha2_obj = datetime.strptime(fecha2, \"%Y-%m-%d\")\n",
    "\n",
    "# Calcula la diferencia en años y meses\n",
    "anios = fecha2_obj.year - fecha1_obj.year\n",
    "meses = fecha2_obj.month - fecha1_obj.month\n",
    "\n",
    "# Si el mes de la fecha2 es menor que el de fecha1, resta un año y ajusta los meses\n",
    "if meses < 0:\n",
    "    anios -= 1\n",
    "    meses += 12\n",
    "\n",
    "print(f\"La diferencia es de {anios} años y {meses} meses.\")"
   ]
  },
  {
   "cell_type": "markdown",
   "metadata": {},
   "source": [
    "## Ejercicio 2"
   ]
  },
  {
   "cell_type": "markdown",
   "metadata": {},
   "source": []
  }
 ],
 "metadata": {
  "kernelspec": {
   "display_name": "Python 3",
   "language": "python",
   "name": "python3"
  },
  "language_info": {
   "codemirror_mode": {
    "name": "ipython",
    "version": 3
   },
   "file_extension": ".py",
   "mimetype": "text/x-python",
   "name": "python",
   "nbconvert_exporter": "python",
   "pygments_lexer": "ipython3",
   "version": "3.11.9"
  }
 },
 "nbformat": 4,
 "nbformat_minor": 2
}
