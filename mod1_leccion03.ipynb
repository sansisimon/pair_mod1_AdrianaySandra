{
 "cells": [
  {
   "cell_type": "markdown",
   "metadata": {},
   "source": [
    "1. Crear un diccionario vacío"
   ]
  },
  {
   "cell_type": "code",
   "execution_count": 1,
   "metadata": {},
   "outputs": [],
   "source": [
    "# Crea un diccionario vacío sin nigún par clave-valor\n",
    "diccionario = {}"
   ]
  },
  {
   "cell_type": "markdown",
   "metadata": {},
   "source": [
    "2. Crear un diccionario con elementos"
   ]
  },
  {
   "cell_type": "code",
   "execution_count": 2,
   "metadata": {},
   "outputs": [],
   "source": [
    "# Crea un diccionario con pares clave-valor predefinidos.\n",
    "# Definir el diccionario con las claves y valores que querais. \n",
    "# NOTA El diccionario debe tener al menos 5 pares de clave:valor.\n",
    "predefinidos = {'adri': 28, 'sandra':29, 'segis': 78, 'julia':22, 'patrocinio': 90}"
   ]
  },
  {
   "cell_type": "markdown",
   "metadata": {},
   "source": [
    "3. Acceder al valor de una clave en un diccionario"
   ]
  },
  {
   "cell_type": "code",
   "execution_count": 3,
   "metadata": {},
   "outputs": [
    {
     "ename": "KeyError",
     "evalue": "''",
     "output_type": "error",
     "traceback": [
      "\u001b[1;31m---------------------------------------------------------------------------\u001b[0m",
      "\u001b[1;31mKeyError\u001b[0m                                  Traceback (most recent call last)",
      "Cell \u001b[1;32mIn[3], line 5\u001b[0m\n\u001b[0;32m      1\u001b[0m \u001b[38;5;66;03m# Descripción: Usando el diccionario creado en el paso anterior,\u001b[39;00m\n\u001b[0;32m      2\u001b[0m \u001b[38;5;66;03m# obtén el valor correspondiente a una clave específica que indique el usuario\u001b[39;00m\n\u001b[0;32m      3\u001b[0m \u001b[38;5;66;03m# (debereis usar la función input() para preguntar al usuario).\u001b[39;00m\n\u001b[1;32m----> 5\u001b[0m \u001b[38;5;28mprint\u001b[39m(\u001b[43mpredefinidos\u001b[49m\u001b[43m[\u001b[49m\u001b[38;5;28;43minput\u001b[39;49m\u001b[43m(\u001b[49m\u001b[38;5;124;43m'\u001b[39;49m\u001b[38;5;124;43mInserta el nombre\u001b[39;49m\u001b[38;5;124;43m'\u001b[39;49m\u001b[43m)\u001b[49m\u001b[43m]\u001b[49m)\n",
      "\u001b[1;31mKeyError\u001b[0m: ''"
     ]
    }
   ],
   "source": [
    "# Descripción: Usando el diccionario creado en el paso anterior,\n",
    "# obtén el valor correspondiente a una clave específica que indique el usuario\n",
    "# (debereis usar la función input() para preguntar al usuario).\n",
    "\n",
    "print(predefinidos[input('Inserta el nombre')])"
   ]
  },
  {
   "cell_type": "markdown",
   "metadata": {},
   "source": [
    "4. Agregar un nuevo par clave-valor a un diccionario"
   ]
  },
  {
   "cell_type": "code",
   "execution_count": 7,
   "metadata": {},
   "outputs": [
    {
     "name": "stdout",
     "output_type": "stream",
     "text": [
      "{'adri': 28, 'sandra': 29, 'segis': 78, 'julia': 22, 'patrocinio': 90, 'ana': 48}\n"
     ]
    }
   ],
   "source": [
    "# Usando el diccionario creado en el ejercicio 2, \n",
    "# agrega un nuevo par clave-valor\n",
    "predefinidos.update({'ana': 48})\n",
    "print(predefinidos)"
   ]
  },
  {
   "cell_type": "code",
   "execution_count": 11,
   "metadata": {},
   "outputs": [
    {
     "data": {
      "text/plain": [
       "78"
      ]
     },
     "execution_count": 11,
     "metadata": {},
     "output_type": "execute_result"
    }
   ],
   "source": [
    "predefinidos.setdefault('segis')"
   ]
  },
  {
   "cell_type": "code",
   "execution_count": 12,
   "metadata": {},
   "outputs": [
    {
     "name": "stdout",
     "output_type": "stream",
     "text": [
      "{'adri': 28, 'sandra': 29, 'segis': 78, 'julia': 22, 'patrocinio': 90, 'ana': 30, 'paco': 45}\n"
     ]
    }
   ],
   "source": [
    "predefinidos.setdefault('paco', 45)\n",
    "print(predefinidos)"
   ]
  },
  {
   "cell_type": "markdown",
   "metadata": {},
   "source": [
    "5. Actualizar el valor de una clave en un diccionario"
   ]
  },
  {
   "cell_type": "code",
   "execution_count": 8,
   "metadata": {},
   "outputs": [
    {
     "name": "stdout",
     "output_type": "stream",
     "text": [
      "{'adri': 28, 'sandra': 29, 'segis': 78, 'julia': 22, 'patrocinio': 90, 'ana': 30}\n"
     ]
    }
   ],
   "source": [
    "# Usando el diccionario creado en el ejercicio 2, actualiza el valor\n",
    "# correspondiente a una clave existente\n",
    "predefinidos['ana'] = 30\n",
    "print(predefinidos)"
   ]
  },
  {
   "cell_type": "markdown",
   "metadata": {},
   "source": [
    "6. Eliminar un par clave-valor de un diccionario"
   ]
  },
  {
   "cell_type": "code",
   "execution_count": 13,
   "metadata": {},
   "outputs": [
    {
     "data": {
      "text/plain": [
       "90"
      ]
     },
     "execution_count": 13,
     "metadata": {},
     "output_type": "execute_result"
    }
   ],
   "source": [
    "# Usando el diccionario creado en el ejercicio 2, \n",
    "# elimina un par clave-valor específico que indique el usuario \n",
    "# (debereis usar la función input() para preguntar al usuario).\n",
    "\n",
    "predefinidos.pop(input('Elige a quién expulsar'))"
   ]
  },
  {
   "cell_type": "markdown",
   "metadata": {},
   "source": [
    "7. Verificar si una clave está presente en un diccionario"
   ]
  },
  {
   "cell_type": "code",
   "execution_count": 14,
   "metadata": {},
   "outputs": [
    {
     "data": {
      "text/plain": [
       "28"
      ]
     },
     "execution_count": 14,
     "metadata": {},
     "output_type": "execute_result"
    }
   ],
   "source": [
    "# Usando el diccionario creado en el ejercicio 2, \n",
    "# verifica si una clave específica está presente en él. \n",
    "# La clave a buscar debe ser pasada por el usuario, debereis usar un input()\n",
    "\n",
    "predefinidos.get(input('Inserta nombre para buscar'))"
   ]
  },
  {
   "cell_type": "markdown",
   "metadata": {},
   "source": [
    "8. Obtener una lista con todas las claves de un diccionario"
   ]
  },
  {
   "cell_type": "code",
   "execution_count": 17,
   "metadata": {},
   "outputs": [
    {
     "name": "stdout",
     "output_type": "stream",
     "text": [
      "dict_keys(['adri', 'sandra', 'segis', 'julia', 'ana', 'paco'])\n"
     ]
    }
   ],
   "source": [
    "# Usando el diccionario creado en el ejercicio 2, \n",
    "# obtén una lista con todas las claves que contiene.\n",
    "lista_nombres = predefinidos.keys()\n",
    "print(lista_nombres)"
   ]
  },
  {
   "cell_type": "code",
   "execution_count": 18,
   "metadata": {},
   "outputs": [
    {
     "data": {
      "text/plain": [
       "dict_keys"
      ]
     },
     "execution_count": 18,
     "metadata": {},
     "output_type": "execute_result"
    }
   ],
   "source": [
    "type(lista_nombres)"
   ]
  },
  {
   "cell_type": "code",
   "execution_count": 19,
   "metadata": {},
   "outputs": [
    {
     "name": "stdout",
     "output_type": "stream",
     "text": [
      "['adri', 'sandra', 'segis', 'julia', 'ana', 'paco']\n"
     ]
    }
   ],
   "source": [
    "lista_nombres = list(predefinidos.keys())\n",
    "print(lista_nombres)"
   ]
  },
  {
   "cell_type": "markdown",
   "metadata": {},
   "source": [
    "9. Obtener una lista de todos los valores de un diccionario"
   ]
  },
  {
   "cell_type": "code",
   "execution_count": 21,
   "metadata": {},
   "outputs": [
    {
     "name": "stdout",
     "output_type": "stream",
     "text": [
      "[28, 29, 78, 22, 30, 45]\n"
     ]
    }
   ],
   "source": [
    "lista_edades = list(predefinidos.values())\n",
    "print(lista_edades)"
   ]
  },
  {
   "cell_type": "markdown",
   "metadata": {},
   "source": [
    "10. Utilizar el método setdefault() para establecer un valor predeterminado si la clave no existe"
   ]
  },
  {
   "cell_type": "code",
   "execution_count": 22,
   "metadata": {},
   "outputs": [
    {
     "data": {
      "text/plain": [
       "6"
      ]
     },
     "execution_count": 22,
     "metadata": {},
     "output_type": "execute_result"
    }
   ],
   "source": [
    "# Usando el diccionario creado en el ejercicio 2, \n",
    "# obten el valor correspondiente a una clave. Si la clave no existe, \n",
    "# establece un valor predeterminado y devuelve dicho valor.\n",
    "len(predefinidos)"
   ]
  },
  {
   "cell_type": "code",
   "execution_count": 23,
   "metadata": {},
   "outputs": [
    {
     "data": {
      "text/plain": [
       "40"
      ]
     },
     "execution_count": 23,
     "metadata": {},
     "output_type": "execute_result"
    }
   ],
   "source": [
    "predefinidos.setdefault('maria',40)"
   ]
  },
  {
   "cell_type": "code",
   "execution_count": 24,
   "metadata": {},
   "outputs": [
    {
     "data": {
      "text/plain": [
       "7"
      ]
     },
     "execution_count": 24,
     "metadata": {},
     "output_type": "execute_result"
    }
   ],
   "source": [
    "len(predefinidos)"
   ]
  },
  {
   "cell_type": "markdown",
   "metadata": {},
   "source": [
    "11. Manipulación de un diccionario pop() y popitem()"
   ]
  },
  {
   "cell_type": "code",
   "execution_count": 25,
   "metadata": {},
   "outputs": [
    {
     "name": "stdout",
     "output_type": "stream",
     "text": [
      "{'adri': 28, 'sandra': 29, 'segis': 78, 'julia': 22, 'ana': 30, 'paco': 45, 'maria': 40}\n"
     ]
    }
   ],
   "source": [
    "# Usando el diccionario creado en el ejercicio 2, \n",
    "# realiza operaciones de eliminación utilizando pop() y popitem(), \n",
    "# y observa cómo afectan al diccionario.\n",
    "\n",
    "print(predefinidos)"
   ]
  },
  {
   "cell_type": "code",
   "execution_count": 26,
   "metadata": {},
   "outputs": [
    {
     "data": {
      "text/plain": [
       "45"
      ]
     },
     "execution_count": 26,
     "metadata": {},
     "output_type": "execute_result"
    }
   ],
   "source": [
    "predefinidos.pop('paco')"
   ]
  },
  {
   "cell_type": "code",
   "execution_count": 27,
   "metadata": {},
   "outputs": [
    {
     "data": {
      "text/plain": [
       "'No encuentro'"
      ]
     },
     "execution_count": 27,
     "metadata": {},
     "output_type": "execute_result"
    }
   ],
   "source": [
    "predefinidos.pop('gumersinda', 'No encuentro')"
   ]
  },
  {
   "cell_type": "code",
   "execution_count": 28,
   "metadata": {},
   "outputs": [
    {
     "data": {
      "text/plain": [
       "6"
      ]
     },
     "execution_count": 28,
     "metadata": {},
     "output_type": "execute_result"
    }
   ],
   "source": [
    "len(predefinidos)"
   ]
  },
  {
   "cell_type": "code",
   "execution_count": 30,
   "metadata": {},
   "outputs": [
    {
     "data": {
      "text/plain": [
       "('maria', 40)"
      ]
     },
     "execution_count": 30,
     "metadata": {},
     "output_type": "execute_result"
    }
   ],
   "source": [
    "predefinidos.popitem()"
   ]
  },
  {
   "cell_type": "code",
   "execution_count": 31,
   "metadata": {},
   "outputs": [
    {
     "data": {
      "text/plain": [
       "5"
      ]
     },
     "execution_count": 31,
     "metadata": {},
     "output_type": "execute_result"
    }
   ],
   "source": [
    "len(predefinidos)"
   ]
  },
  {
   "cell_type": "markdown",
   "metadata": {},
   "source": [
    "# EJERCICIOS SETS"
   ]
  },
  {
   "cell_type": "markdown",
   "metadata": {},
   "source": [
    "1. Crear un conjunto vacío"
   ]
  },
  {
   "cell_type": "code",
   "execution_count": 35,
   "metadata": {},
   "outputs": [],
   "source": [
    "# Crea un conjunto vacío sin ningún elemento\n",
    "conjunto_vacio = set()"
   ]
  },
  {
   "cell_type": "code",
   "execution_count": 36,
   "metadata": {},
   "outputs": [
    {
     "data": {
      "text/plain": [
       "set"
      ]
     },
     "execution_count": 36,
     "metadata": {},
     "output_type": "execute_result"
    }
   ],
   "source": [
    "type(conjunto_vacio) "
   ]
  },
  {
   "cell_type": "markdown",
   "metadata": {},
   "source": [
    "2. Crear un conjunto con elementos"
   ]
  },
  {
   "cell_type": "code",
   "execution_count": 4,
   "metadata": {},
   "outputs": [],
   "source": [
    "# Crea un conjunto con elementos predefinidos\n",
    "set_predefinidos = {'berenjenas', 'macarrones', 'leche', 'cafe', 'huevos', 'aceite', 'lechuga'}"
   ]
  },
  {
   "cell_type": "code",
   "execution_count": 38,
   "metadata": {},
   "outputs": [
    {
     "data": {
      "text/plain": [
       "7"
      ]
     },
     "execution_count": 38,
     "metadata": {},
     "output_type": "execute_result"
    }
   ],
   "source": [
    "len(set_predefinidos)"
   ]
  },
  {
   "cell_type": "markdown",
   "metadata": {},
   "source": [
    "3. Agregar elementos a un conjunto"
   ]
  },
  {
   "cell_type": "code",
   "execution_count": 8,
   "metadata": {},
   "outputs": [
    {
     "data": {
      "text/plain": [
       "9"
      ]
     },
     "execution_count": 8,
     "metadata": {},
     "output_type": "execute_result"
    }
   ],
   "source": [
    "# Usando el set creado en el ejercicio 2, \n",
    "# agrega nuevos elementos. Debereis agregar por separado:\n",
    "# 1. Un elementos solo\n",
    "set_predefinidos.add('tomates')\n",
    "len(set_predefinidos)\n"
   ]
  },
  {
   "cell_type": "code",
   "execution_count": 9,
   "metadata": {},
   "outputs": [
    {
     "ename": "TypeError",
     "evalue": "set.add() takes exactly one argument (2 given)",
     "output_type": "error",
     "traceback": [
      "\u001b[1;31m---------------------------------------------------------------------------\u001b[0m",
      "\u001b[1;31mTypeError\u001b[0m                                 Traceback (most recent call last)",
      "Cell \u001b[1;32mIn[9], line 2\u001b[0m\n\u001b[0;32m      1\u001b[0m \u001b[38;5;66;03m# Un par de elementos a la vez\u001b[39;00m\n\u001b[1;32m----> 2\u001b[0m \u001b[43mset_predefinidos\u001b[49m\u001b[38;5;241;43m.\u001b[39;49m\u001b[43madd\u001b[49m\u001b[43m(\u001b[49m\u001b[38;5;124;43m'\u001b[39;49m\u001b[38;5;124;43msal\u001b[39;49m\u001b[38;5;124;43m'\u001b[39;49m\u001b[43m,\u001b[49m\u001b[43m \u001b[49m\u001b[38;5;124;43m'\u001b[39;49m\u001b[38;5;124;43mazucar\u001b[39;49m\u001b[38;5;124;43m'\u001b[39;49m\u001b[43m)\u001b[49m\n\u001b[0;32m      3\u001b[0m \u001b[38;5;28mlen\u001b[39m(set_predefinidos)\n",
      "\u001b[1;31mTypeError\u001b[0m: set.add() takes exactly one argument (2 given)"
     ]
    }
   ],
   "source": [
    "# Un par de elementos a la vez\n",
    "set_predefinidos.add('sal', 'azucar')\n",
    "len(set_predefinidos)"
   ]
  },
  {
   "cell_type": "code",
   "execution_count": 10,
   "metadata": {},
   "outputs": [
    {
     "data": {
      "text/plain": [
       "10"
      ]
     },
     "execution_count": 10,
     "metadata": {},
     "output_type": "execute_result"
    }
   ],
   "source": [
    "set_predefinidos.update(['sal', 'azucar'])\n",
    "len(set_predefinidos)"
   ]
  },
  {
   "cell_type": "code",
   "execution_count": 6,
   "metadata": {},
   "outputs": [],
   "source": [
    "# ¡¡UPDATE SIEMPRE EN FORMA DE LISTA!!"
   ]
  },
  {
   "cell_type": "markdown",
   "metadata": {},
   "source": [
    "4. Eliminar un elemento de un conjunto"
   ]
  },
  {
   "cell_type": "code",
   "execution_count": 11,
   "metadata": {},
   "outputs": [
    {
     "data": {
      "text/plain": [
       "9"
      ]
     },
     "execution_count": 11,
     "metadata": {},
     "output_type": "execute_result"
    }
   ],
   "source": [
    "# Usando el set creado en el ejercicio 2, elimina un elemento especificado por el usuario\n",
    "set_predefinidos.remove(input())\n",
    "len(set_predefinidos)"
   ]
  },
  {
   "cell_type": "markdown",
   "metadata": {},
   "source": [
    "5. Verificar la pertenencia de un elemento en un conjunto"
   ]
  },
  {
   "cell_type": "code",
   "execution_count": 12,
   "metadata": {},
   "outputs": [
    {
     "data": {
      "text/plain": [
       "True"
      ]
     },
     "execution_count": 12,
     "metadata": {},
     "output_type": "execute_result"
    }
   ],
   "source": [
    "# Un usando el set creado en el ejercicio 2, verifica si un elemento específico está presente en él\n",
    "'macarrones' in set_predefinidos"
   ]
  },
  {
   "cell_type": "markdown",
   "metadata": {},
   "source": [
    "6. Realizar una unión de conjuntos"
   ]
  },
  {
   "cell_type": "code",
   "execution_count": 14,
   "metadata": {},
   "outputs": [
    {
     "name": "stdout",
     "output_type": "stream",
     "text": [
      "{'aceite', 'lechuga', 'aguacates', 'sal', 'frutas', 'macarrones', 'cafe', 'berenjenas', 'leche', 'azucar', 'huevos', 'tomates'}\n"
     ]
    }
   ],
   "source": [
    "# Dados dos conjuntos, realiza una unión de ellos\n",
    "set_predef_2 = {'frutas', 'sal', 'tomates', 'macarrones', 'aguacates'}\n",
    "set_union = set_predefinidos.union(set_predef_2)\n",
    "print(set_union)"
   ]
  },
  {
   "cell_type": "code",
   "execution_count": null,
   "metadata": {},
   "outputs": [],
   "source": []
  },
  {
   "cell_type": "code",
   "execution_count": null,
   "metadata": {},
   "outputs": [],
   "source": []
  },
  {
   "cell_type": "code",
   "execution_count": null,
   "metadata": {},
   "outputs": [],
   "source": []
  },
  {
   "cell_type": "code",
   "execution_count": null,
   "metadata": {},
   "outputs": [],
   "source": []
  },
  {
   "cell_type": "code",
   "execution_count": null,
   "metadata": {},
   "outputs": [],
   "source": []
  },
  {
   "cell_type": "code",
   "execution_count": null,
   "metadata": {},
   "outputs": [],
   "source": []
  }
 ],
 "metadata": {
  "kernelspec": {
   "display_name": "Python 3",
   "language": "python",
   "name": "python3"
  },
  "language_info": {
   "codemirror_mode": {
    "name": "ipython",
    "version": 3
   },
   "file_extension": ".py",
   "mimetype": "text/x-python",
   "name": "python",
   "nbconvert_exporter": "python",
   "pygments_lexer": "ipython3",
   "version": "3.11.9"
  }
 },
 "nbformat": 4,
 "nbformat_minor": 2
}
