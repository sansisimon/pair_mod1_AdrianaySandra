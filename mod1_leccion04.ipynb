{
 "cells": [
  {
   "cell_type": "markdown",
   "metadata": {},
   "source": [
    "# Pair Sentencias de control\n",
    "## Ejercicios if-else\n",
    "\n",
    "1. Verificar si un número es positivo, negativo o cero\n",
    "\n",
    "Descripción: Dado un número, verifica si es positivo, negativo o cero"
   ]
  },
  {
   "cell_type": "markdown",
   "metadata": {},
   "source": [
    "```python\n",
    "# una ejecución:\n",
    "if condición\n",
    "elif condicion\n",
    "elif 2\n",
    "elif 3\n",
    "...\n",
    "else:\n",
    "\n",
    "\n",
    "# varias ejecuciones (menos recomendable):\n",
    "if condicion 1 #(ejecución 1)\n",
    "\n",
    "if condición 2 #ejección 2\n",
    "```"
   ]
  },
  {
   "cell_type": "code",
   "execution_count": 3,
   "metadata": {},
   "outputs": [
    {
     "name": "stdout",
     "output_type": "stream",
     "text": [
      "es igual a 0\n"
     ]
    }
   ],
   "source": [
    "# una ejecución:\n",
    "\n",
    "num = int(input('inserta numero'))\n",
    "\n",
    "if num > 0:\n",
    "    print('positivo')\n",
    "\n",
    "elif num == 0:\n",
    "    print('es igual a 0')\n",
    "\n",
    "else:\n",
    "    print('es negativo')"
   ]
  },
  {
   "cell_type": "markdown",
   "metadata": {},
   "source": [
    "2. Verificar si un número es par o impar\n",
    "\n",
    "Descripción: Dado un número, verifica si es par o impar."
   ]
  },
  {
   "cell_type": "code",
   "execution_count": 6,
   "metadata": {},
   "outputs": [
    {
     "name": "stdout",
     "output_type": "stream",
     "text": [
      "el num seleccionado es: 3\n",
      "es impar\n"
     ]
    }
   ],
   "source": [
    "num = int(input('inserta numero'))\n",
    "print('el num seleccionado es:', num)\n",
    "\n",
    "# %: te calcula el resto de una división\n",
    "# los numeros impares dan como resultado a dividir entre 2 un resto (resto != 0) y los pares tienen resto == 0.\n",
    "\n",
    "if num % 2 == 0:\n",
    "    print('es par')\n",
    "else:\n",
    "    print('es impar')"
   ]
  },
  {
   "cell_type": "markdown",
   "metadata": {},
   "source": [
    "3. Verificar si un estudiante aprobó o suspendió un examen\n",
    "\n",
    "Descripción: Dada la calificación de un estudiante en un examen, verifica si aprobó o suspendió (si la calificación es mayor o igual a 60 se considera aprobado)."
   ]
  },
  {
   "cell_type": "code",
   "execution_count": 8,
   "metadata": {},
   "outputs": [
    {
     "name": "stdout",
     "output_type": "stream",
     "text": [
      "la nota insertada es: 59\n",
      "suspenso\n"
     ]
    }
   ],
   "source": [
    "nota = int(input('inserta nota'))\n",
    "print('la nota insertada es:', nota)\n",
    "\n",
    "if nota >= 60:\n",
    "    print('aprobado')\n",
    "\n",
    "else: \n",
    "    print('suspenso')"
   ]
  },
  {
   "cell_type": "markdown",
   "metadata": {},
   "source": [
    "4. Calcular el máximo entre dos números\n",
    "\n",
    "Descripción: Dados dos números, encuentra el máximo entre ellos."
   ]
  },
  {
   "cell_type": "code",
   "execution_count": 10,
   "metadata": {},
   "outputs": [
    {
     "name": "stdout",
     "output_type": "stream",
     "text": [
      "el num1 insertado es: 1\n",
      "el num2 insertado es: 1\n",
      "------------------------------\n",
      "has insertado dos numeros iguales\n"
     ]
    }
   ],
   "source": [
    "num1 = int(input('inserta num1'))\n",
    "print('el num1 insertado es:', num1)\n",
    "num2 = int(input('inserta num2'))\n",
    "print('el num2 insertado es:', num2)\n",
    "print('-' * 30)\n",
    "\n",
    "if num1 > num2:\n",
    "    print('num1 es mayor que num2')\n",
    "elif num1 == num2:\n",
    "    print('has insertado dos numeros iguales')\n",
    "else:\n",
    "    print('num2 es mayor que num1')"
   ]
  },
  {
   "cell_type": "markdown",
   "metadata": {},
   "source": [
    "5. Verificar si una letra es una vocal o una consonante\n",
    "\n",
    "Descripción: Dada una letra, verifica si es una vocal o una consonante."
   ]
  },
  {
   "cell_type": "code",
   "execution_count": 12,
   "metadata": {},
   "outputs": [
    {
     "name": "stdout",
     "output_type": "stream",
     "text": [
      "la letra insertada es o\n",
      "la letra \"o\" es una vocal\n"
     ]
    }
   ],
   "source": [
    "letra = input('inserta letra')\n",
    "print('la letra insertada es', letra)\n",
    "\n",
    "vocales = ['a', 'e', 'i', 'o', 'u']\n",
    "\n",
    "if letra in vocales:\n",
    "    print(f'la letra \"{letra}\" es una vocal')\n",
    "else:\n",
    "    print(f'la letra \"{letra}\" es una consonante')"
   ]
  },
  {
   "cell_type": "markdown",
   "metadata": {},
   "source": [
    "6. Calcular el descuento en una compra según el monto total\n",
    "\n",
    "Descripción: Dado el monto total de una compra, calcula el descuento aplicado según las siguientes condiciones: si el monto es mayor o igual a $100, aplica un descuento del 10%; de lo contrario, no aplica ningún descuento."
   ]
  },
  {
   "cell_type": "code",
   "execution_count": 14,
   "metadata": {},
   "outputs": [
    {
     "name": "stdout",
     "output_type": "stream",
     "text": [
      "el precio de la compra es: $ 110\n",
      "el precio tiene un descuento de \"11.0\" y el precio final es: $ 99.0\n"
     ]
    }
   ],
   "source": [
    "precio = int(input('inserta el precio de la compra'))\n",
    "print('el precio de la compra es: $', precio)\n",
    "\n",
    "if precio >= 100:\n",
    "    precio_final = precio - (precio * 0.1)\n",
    "    print(f'el precio tiene un descuento de \"{(precio * 0.1)}\" y el precio final es: $ {precio_final}')\n",
    "\n",
    "else: \n",
    "    print('el precio no tiene descuento y el precio final es: $', precio)\n"
   ]
  },
  {
   "cell_type": "markdown",
   "metadata": {},
   "source": [
    "7. Verificar si un año es bisiesto o no\n",
    "\n",
    "Descripción: Dado un año, verifica si es bisiesto o no (un año es bisiesto si es divisible entre 4, excepto aquellos divisibles entre 100 pero no entre 400).\n"
   ]
  },
  {
   "cell_type": "code",
   "execution_count": 18,
   "metadata": {},
   "outputs": [
    {
     "name": "stdout",
     "output_type": "stream",
     "text": [
      "el año que queremos comprobar es: 4\n",
      "es bisiesto\n"
     ]
    }
   ],
   "source": [
    "año = int(input('inserta el año a evaluar'))\n",
    "print('el año que queremos comprobar es:', año)\n",
    "\n",
    "if año % 4 == 0:\n",
    "    \n",
    "    if año % 100 == 0 and año % 400 != 0:\n",
    "        print('no es bisiesto')\n",
    "    else:\n",
    "        print('es bisiesto')\n",
    "\n",
    "else:\n",
    "    print('no es bisiesto')\n"
   ]
  },
  {
   "cell_type": "markdown",
   "metadata": {},
   "source": [
    "8. Asignar una categoría a una edad\n",
    "\n",
    "Descripción: Dada una edad, asigna una categoría según las siguientes condiciones: si la edad es menor de 18, la categoría es \"Menor de edad\"; si la edad está entre 18 y 64 (incluyendo ambos), la categoría es \"Adulto\"; de lo contrario, la categoría es \"Adulto mayor\"."
   ]
  },
  {
   "cell_type": "code",
   "execution_count": 22,
   "metadata": {},
   "outputs": [
    {
     "name": "stdout",
     "output_type": "stream",
     "text": [
      "la edad insertada es: 18\n",
      "persona adulta\n"
     ]
    }
   ],
   "source": [
    "edad = int(input('inserta edad'))\n",
    "print('la edad insertada es:', edad)\n",
    "\n",
    "if edad < 18:\n",
    "    print(' menor de edad')\n",
    "\n",
    "elif 18 <= edad <= 64:\n",
    "    print('persona adulta')\n",
    "\n",
    "else:\n",
    "    print('anciano')"
   ]
  },
  {
   "cell_type": "markdown",
   "metadata": {},
   "source": [
    "9. Verificar si tres números forman un triángulo rectángulo\n",
    "\n",
    "Descripción: Dados tres números, verifica si forman un triángulo rectángulo (si se cumple el teorema de Pitágoras)."
   ]
  },
  {
   "cell_type": "code",
   "execution_count": 26,
   "metadata": {},
   "outputs": [
    {
     "name": "stdout",
     "output_type": "stream",
     "text": [
      "has insertado el lado1: 8\n",
      "has insertado el lado2: 10\n",
      "has insertado el lado3: 6\n",
      "------------------------------\n",
      "esta es la hipotenusa: 10\n",
      "esta es la lista de catetos: [8, 6]\n",
      "------------------------------\n",
      "es un triángulo rectángulo\n"
     ]
    }
   ],
   "source": [
    "#pitágoras:  el cuadrado de la hipotenusa == al cuadrado de los lados\n",
    "\n",
    "lado1 = int(input('inserta el lado1'))\n",
    "print('has insertado el lado1:', lado1)\n",
    "lado2 = int(input('inserta el lado2'))\n",
    "print('has insertado el lado2:', lado2)\n",
    "lado3 = int(input('inserta el lado3'))\n",
    "print('has insertado el lado3:', lado3)\n",
    "print('-' * 30)\n",
    "\n",
    "lista = [lado1, lado2, lado3]\n",
    "hipotenusa = max(lista)\n",
    "print('esta es la hipotenusa:', hipotenusa )\n",
    "lista.remove(max(lista))\n",
    "print('esta es la lista de catetos:', lista)\n",
    "print('-' * 30)\n",
    "\n",
    "if hipotenusa ** 2 == (lista[0] ** 2 + lista[1] ** 2):\n",
    "    print('es un triángulo rectángulo')\n",
    "else: \n",
    "    print('no es un triángulo rectángulo')\n",
    "\n"
   ]
  },
  {
   "cell_type": "markdown",
   "metadata": {},
   "source": [
    "10. Asignar una calificación a una puntuación\n",
    "\n",
    "Descripción: Dada una puntuación, asigna una calificación según las siguientes condiciones: si la puntuación es mayor o igual a 90, la calificación es \"A\"; si es mayor o igual a 80, la calificación es \"B\"; si es mayor o igual a 70, la calificación es \"C\"; si es mayor o igual a 60, la calificación es \"D\"; de lo contrario, la calificación es \"F\"."
   ]
  },
  {
   "cell_type": "markdown",
   "metadata": {},
   "source": [
    "11. Calcular el índice de masa corporal (IMC) y categorizarlo\n",
    "\n",
    "Descripción: Dados el peso (en kg) y la altura (en metros) de una persona, calcula su IMC y categorízalo según las siguientes condiciones: si el IMC es menor a 18.5, es \"Bajo peso\"; si está entre 18.5 y 24.9 (inclusive), es \"Peso normal\"; si está entre 25 y 29.9 (inclusive), es \"Sobrepeso\"; de lo contrario, es \"Obesidad\"."
   ]
  },
  {
   "cell_type": "markdown",
   "metadata": {},
   "source": [
    "12. Calcular el mayor de tres números\n",
    "\n",
    "Descripción: Dados tres números, encuentra el mayor entre ellos."
   ]
  },
  {
   "cell_type": "markdown",
   "metadata": {},
   "source": [
    "13. BONUS sentencias de control: Verificar la validez de una fecha\n",
    "\n",
    "Descripción: Dados el día, el mes y el año de una fecha, verifica si la fecha es válida."
   ]
  },
  {
   "cell_type": "markdown",
   "metadata": {},
   "source": [
    "## Ejercicios while"
   ]
  },
  {
   "cell_type": "markdown",
   "metadata": {},
   "source": [
    "1. Calcular la suma de los primeros 10 números naturales utilizando un bucle while\n",
    "\n",
    "Descripción: Utiliza un bucle while para calcular la suma de los primeros 10 números naturales (1 + 2 + 3 + ... + 10)."
   ]
  },
  {
   "cell_type": "markdown",
   "metadata": {},
   "source": [
    "2. Juego de adivinanza utilizando un bucle while\n",
    "\n",
    "Descripción: Crea un juego de adivinanza en el que el jugador tiene que adivinar un número secreto (tendrá que ser entre el 0 y el 10). Utiliza un bucle while para permitir múltiples intentos hasta que el jugador adivine correctamente."
   ]
  }
 ],
 "metadata": {
  "kernelspec": {
   "display_name": "Python 3",
   "language": "python",
   "name": "python3"
  },
  "language_info": {
   "codemirror_mode": {
    "name": "ipython",
    "version": 3
   },
   "file_extension": ".py",
   "mimetype": "text/x-python",
   "name": "python",
   "nbconvert_exporter": "python",
   "pygments_lexer": "ipython3",
   "version": "3.9.6"
  }
 },
 "nbformat": 4,
 "nbformat_minor": 2
}
